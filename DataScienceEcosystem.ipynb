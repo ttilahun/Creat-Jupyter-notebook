{
 "cells": [
  {
   "cell_type": "markdown",
   "id": "fifty-scholar",
   "metadata": {},
   "source": [
    "# Data Science Tools and Ecosystem"
   ]
  },
  {
   "cell_type": "markdown",
   "id": "bright-pennsylvania",
   "metadata": {},
   "source": [
    "In this notebook, Data Science Tools and Ecosystem are summarized."
   ]
  },
  {
   "cell_type": "markdown",
   "id": "coastal-trinidad",
   "metadata": {},
   "source": [
    "Some of the popular languages that Data Scientists use are:"
   ]
  },
  {
   "cell_type": "markdown",
   "id": "daily-illustration",
   "metadata": {},
   "source": [
    "* Python\n",
    "* Rstudio\n",
    "* Java\n",
    "* C++\n",
    "* Scala"
   ]
  },
  {
   "cell_type": "markdown",
   "id": "applicable-sandwich",
   "metadata": {},
   "source": [
    "Some of the commonly used libraries used by Data Scientists include:"
   ]
  },
  {
   "cell_type": "markdown",
   "id": "political-advertiser",
   "metadata": {},
   "source": [
    "* Numpy\n",
    "* Pandas\n",
    "* Matplotlib"
   ]
  },
  {
   "cell_type": "markdown",
   "id": "attached-healthcare",
   "metadata": {},
   "source": [
    "|Data science tools|\n",
    "-----------------------------\n",
    "|Rsudio|\n",
    "|Apache sparkl|\n",
    "|Python|"
   ]
  },
  {
   "cell_type": "markdown",
   "id": "adult-brass",
   "metadata": {},
   "source": [
    "### Below are a few examples of evaluating arithmetic expressions in Python"
   ]
  },
  {
   "cell_type": "code",
   "execution_count": 2,
   "id": "sitting-seeker",
   "metadata": {},
   "outputs": [
    {
     "data": {
      "text/plain": [
       "17"
      ]
     },
     "execution_count": 2,
     "metadata": {},
     "output_type": "execute_result"
    }
   ],
   "source": [
    "(3*4)+5"
   ]
  },
  {
   "cell_type": "code",
   "execution_count": 4,
   "id": "celtic-simulation",
   "metadata": {},
   "outputs": [],
   "source": [
    "X = 200\n",
    "Y = X/60"
   ]
  },
  {
   "cell_type": "code",
   "execution_count": 5,
   "id": "moved-davis",
   "metadata": {},
   "outputs": [
    {
     "data": {
      "text/plain": [
       "3.3333333333333335"
      ]
     },
     "execution_count": 5,
     "metadata": {},
     "output_type": "execute_result"
    }
   ],
   "source": [
    "Y"
   ]
  },
  {
   "cell_type": "markdown",
   "id": "accepting-financing",
   "metadata": {},
   "source": [
    "## Objectives:"
   ]
  },
  {
   "cell_type": "markdown",
   "id": "following-reward",
   "metadata": {},
   "source": [
    "* List popular languages for Data Science\n",
    "* Use programing language\n",
    "* How to run multiple notebooks at the same time\n",
    "* How to present a notebook using a combination of Markdown and code cells.\n",
    "* How to shut down your notebook sessions after you have completed your work on them."
   ]
  },
  {
   "cell_type": "markdown",
   "id": "unsigned-instruction",
   "metadata": {},
   "source": [
    "## Author"
   ]
  },
  {
   "cell_type": "markdown",
   "id": "palestinian-calvin",
   "metadata": {},
   "source": [
    "Tewodros Tilahun"
   ]
  }
 ],
 "metadata": {
  "kernelspec": {
   "display_name": "Python 3",
   "language": "python",
   "name": "python3"
  },
  "language_info": {
   "codemirror_mode": {
    "name": "ipython",
    "version": 3
   },
   "file_extension": ".py",
   "mimetype": "text/x-python",
   "name": "python",
   "nbconvert_exporter": "python",
   "pygments_lexer": "ipython3",
   "version": "3.8.5"
  }
 },
 "nbformat": 4,
 "nbformat_minor": 5
}
